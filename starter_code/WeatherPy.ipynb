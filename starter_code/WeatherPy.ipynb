{
 "cells": [
  {
   "cell_type": "markdown",
   "metadata": {},
   "source": [
    "# WeatherPy\n",
    "----\n",
    "\n",
    "### Analysis\n",
    "* As expected, the weather becomes significantly warmer as one approaches the equator (0 Deg. Latitude). More interestingly, however, is the fact that the southern hemisphere tends to be warmer this time of year than the northern hemisphere. This may be due to the tilt of the earth.\n",
    "* There is no strong relationship between latitude and cloudiness. However, it is interesting to see that a strong band of cities sits at 0, 80, and 100% cloudiness.\n",
    "* There is no strong relationship between latitude and wind speed. However, in northern hemispheres there is a flurry of cities with over 20 mph of wind.\n",
    "\n",
    "---\n",
    "\n",
    "#### Note\n",
    "* Instructions have been included for each segment. You do not have to follow them exactly, but they are included to help you think through the steps."
   ]
  },
  {
   "cell_type": "code",
   "execution_count": 2,
   "metadata": {
    "scrolled": true
   },
   "outputs": [],
   "source": [
    "# Dependencies and Setup\n",
    "import matplotlib.pyplot as plt\n",
    "import pandas as pd\n",
    "import numpy as np\n",
    "import requests\n",
    "import time\n",
    "\n",
    "# Import API key\n",
    "from api_keys import api_key\n",
    "\n",
    "# Incorporated citipy to determine city based on latitude and longitude\n",
    "from citipy import citipy\n",
    "\n",
    "# Output File (CSV)\n",
    "output_data_file = \"output_data/cities.csv\"\n",
    "\n",
    "# Range of latitudes and longitudes\n",
    "lat_range = (-90, 90)\n",
    "lng_range = (-180, 180)"
   ]
  },
  {
   "cell_type": "markdown",
   "metadata": {},
   "source": [
    "## Generate Cities List"
   ]
  },
  {
   "cell_type": "code",
   "execution_count": 3,
   "metadata": {},
   "outputs": [
    {
     "data": {
      "text/plain": [
       "605"
      ]
     },
     "execution_count": 3,
     "metadata": {},
     "output_type": "execute_result"
    }
   ],
   "source": [
    "# List for holding lat_lngs and cities\n",
    "lat_lngs = []\n",
    "cities = []\n",
    "\n",
    "# Create a set of random lat and lng combinations\n",
    "lats = np.random.uniform(low=-90.000, high=90.000, size=1500)\n",
    "lngs = np.random.uniform(low=-180.000, high=180.000, size=1500)\n",
    "lat_lngs = zip(lats, lngs)\n",
    "\n",
    "# Identify nearest city for each lat, lng combination\n",
    "for lat_lng in lat_lngs:\n",
    "    city = citipy.nearest_city(lat_lng[0], lat_lng[1]).city_name\n",
    "    \n",
    "    # If the city is unique, then add it to a our cities list\n",
    "    if city not in cities:\n",
    "        cities.append(city)\n",
    "\n",
    "# Print the city count to confirm sufficient count\n",
    "len(cities)"
   ]
  },
  {
   "cell_type": "code",
   "execution_count": 4,
   "metadata": {},
   "outputs": [
    {
     "data": {
      "text/plain": [
       "'http://api.openweathermap.org/data/2.5/weather?appid=afd76322cab7ec4f54a0173ce62e092f&units=imperial&q='"
      ]
     },
     "execution_count": 4,
     "metadata": {},
     "output_type": "execute_result"
    }
   ],
   "source": [
    "url = \"http://api.openweathermap.org/data/2.5/weather?\"\n",
    "unit = \"imperial\"\n",
    "query_url = f\"{url}appid={api_key}&units={unit}&q=\"\n",
    "query_url"
   ]
  },
  {
   "cell_type": "markdown",
   "metadata": {},
   "source": [
    "### Perform API Calls\n",
    "* Perform a weather check on each city using a series of successive API calls.\n",
    "* Include a print log of each city as it'sbeing processed (with the city number and city name).\n"
   ]
  },
  {
   "cell_type": "code",
   "execution_count": null,
   "metadata": {},
   "outputs": [
    {
     "name": "stdout",
     "output_type": "stream",
     "text": [
      "Processing Record 1 of Set 1 | hilo\n",
      "Processing Record 2 of Set 1 | byron bay\n",
      "Processing Record 3 of Set 1 | dhidhdhoo\n",
      "Processing Record 4 of Set 1 | vaitape\n",
      "Processing Record 5 of Set 1 | rikitea\n",
      "Processing Record 6 of Set 1 | ormara\n",
      "Processing Record 7 of Set 1 | barentsburg\n",
      "City not found. Skipping...\n",
      "Processing Record 8 of Set 1 | muyezerskiy\n",
      "Processing Record 9 of Set 1 | winneba\n",
      "Processing Record 10 of Set 1 | hobart\n",
      "Processing Record 11 of Set 1 | busselton\n",
      "Processing Record 12 of Set 1 | ribeira grande\n",
      "Processing Record 13 of Set 1 | mouzakion\n",
      "City not found. Skipping...\n",
      "Processing Record 14 of Set 1 | hami\n",
      "Processing Record 15 of Set 1 | punta arenas\n",
      "Processing Record 16 of Set 1 | bethel\n",
      "Processing Record 17 of Set 1 | houma\n",
      "Processing Record 18 of Set 1 | airai\n",
      "Processing Record 19 of Set 1 | iqaluit\n",
      "Processing Record 20 of Set 1 | manta\n",
      "Processing Record 21 of Set 1 | bredasdorp\n",
      "Processing Record 22 of Set 1 | acapulco\n",
      "Processing Record 23 of Set 1 | tawzar\n",
      "City not found. Skipping...\n",
      "Processing Record 24 of Set 1 | valparaiso\n",
      "Processing Record 25 of Set 1 | itoman\n",
      "Processing Record 26 of Set 1 | padang\n",
      "Processing Record 27 of Set 1 | high level\n",
      "Processing Record 28 of Set 1 | saint anthony\n",
      "Processing Record 29 of Set 1 | east london\n",
      "Processing Record 30 of Set 1 | ushuaia\n",
      "Processing Record 31 of Set 1 | hambantota\n",
      "Processing Record 32 of Set 1 | avera\n",
      "Processing Record 33 of Set 1 | richards bay\n",
      "Processing Record 34 of Set 1 | mataura\n",
      "Processing Record 35 of Set 1 | coquimbo\n",
      "Processing Record 36 of Set 1 | severo-kurilsk\n",
      "Processing Record 37 of Set 1 | kaitangata\n",
      "Processing Record 38 of Set 1 | taolanaro\n",
      "City not found. Skipping...\n",
      "Processing Record 39 of Set 1 | griffith\n",
      "Processing Record 40 of Set 1 | yar-sale\n",
      "Processing Record 41 of Set 1 | norman wells\n",
      "Processing Record 42 of Set 1 | torbay\n",
      "Processing Record 43 of Set 1 | nizhneyansk\n",
      "City not found. Skipping...\n",
      "Processing Record 44 of Set 1 | santa marta\n",
      "Processing Record 45 of Set 1 | kapaa\n",
      "Processing Record 46 of Set 1 | bossangoa\n",
      "Processing Record 47 of Set 1 | karlskrona\n",
      "Processing Record 48 of Set 1 | nuevitas\n",
      "Processing Record 49 of Set 1 | harboore\n",
      "Processing Record 50 of Set 1 | cherskiy\n",
      "Processing Record 51 of Set 1 | dickinson\n",
      "Processing Record 52 of Set 1 | tumannyy\n",
      "City not found. Skipping...\n",
      "Processing Record 53 of Set 1 | chuy\n",
      "Processing Record 54 of Set 1 | turukhansk\n",
      "Processing Record 55 of Set 1 | amga\n",
      "Processing Record 56 of Set 1 | saint-louis\n",
      "Processing Record 57 of Set 1 | butaritari\n",
      "Processing Record 58 of Set 1 | sekoma\n",
      "Processing Record 59 of Set 1 | jamestown\n",
      "Processing Record 60 of Set 1 | belushya guba\n",
      "City not found. Skipping...\n",
      "Processing Record 61 of Set 1 | kavkazskiy\n",
      "Processing Record 62 of Set 1 | karimganj\n",
      "Processing Record 63 of Set 1 | castro\n",
      "Processing Record 64 of Set 1 | avarua\n",
      "Processing Record 65 of Set 1 | tete\n",
      "Processing Record 66 of Set 1 | hostinne\n",
      "Processing Record 67 of Set 1 | chokurdakh\n",
      "Processing Record 68 of Set 1 | nexo\n",
      "Processing Record 69 of Set 1 | barrow\n",
      "Processing Record 70 of Set 1 | barcelos\n",
      "Processing Record 71 of Set 1 | longyearbyen\n",
      "Processing Record 72 of Set 1 | kloulklubed\n",
      "Processing Record 73 of Set 1 | carnarvon\n",
      "Processing Record 74 of Set 1 | dakar\n",
      "Processing Record 75 of Set 1 | kodiak\n",
      "Processing Record 76 of Set 1 | puerto ayora\n",
      "Processing Record 77 of Set 1 | kytlym\n",
      "City not found. Skipping...\n",
      "Processing Record 78 of Set 1 | otradinskiy\n",
      "City not found. Skipping...\n",
      "Processing Record 79 of Set 1 | pilar\n",
      "Processing Record 80 of Set 1 | velykyy burluk\n",
      "City not found. Skipping...\n",
      "Processing Record 81 of Set 1 | lorengau\n",
      "Processing Record 82 of Set 1 | poltava\n",
      "Processing Record 83 of Set 1 | tiksi\n",
      "Processing Record 84 of Set 1 | mar del plata\n",
      "Processing Record 85 of Set 1 | jati\n",
      "Processing Record 86 of Set 1 | maningrida\n",
      "Processing Record 87 of Set 1 | port alfred\n",
      "Processing Record 88 of Set 1 | goderich\n",
      "Processing Record 89 of Set 1 | grand centre\n",
      "City not found. Skipping...\n",
      "Processing Record 90 of Set 1 | attawapiskat\n",
      "City not found. Skipping...\n",
      "Processing Record 91 of Set 1 | harper\n",
      "Processing Record 92 of Set 1 | new norfolk\n",
      "Processing Record 93 of Set 1 | viligili\n",
      "City not found. Skipping...\n",
      "Processing Record 94 of Set 1 | pevek\n",
      "Processing Record 95 of Set 1 | pascagoula\n",
      "Processing Record 96 of Set 1 | cabo san lucas\n",
      "Processing Record 97 of Set 1 | yellowknife\n",
      "Processing Record 98 of Set 1 | hasaki\n",
      "Processing Record 99 of Set 1 | daru\n",
      "Processing Record 100 of Set 1 | dawei\n",
      "Processing Record 101 of Set 1 | saldanha\n",
      "Processing Record 102 of Set 1 | atuona\n",
      "Processing Record 103 of Set 1 | monforte de lemos\n",
      "Processing Record 104 of Set 1 | charyshskoye\n",
      "Processing Record 105 of Set 1 | alyangula\n",
      "Processing Record 106 of Set 1 | khatanga\n",
      "Processing Record 107 of Set 1 | amderma\n",
      "City not found. Skipping...\n",
      "Processing Record 108 of Set 1 | maldonado\n",
      "Processing Record 109 of Set 1 | provideniya\n",
      "Processing Record 110 of Set 1 | bucerias\n",
      "Processing Record 111 of Set 1 | port elizabeth\n",
      "Processing Record 112 of Set 1 | lamu\n",
      "Processing Record 113 of Set 1 | stornoway\n",
      "City not found. Skipping...\n",
      "Processing Record 114 of Set 1 | tibati\n",
      "Processing Record 115 of Set 1 | jonkoping\n",
      "Processing Record 116 of Set 1 | canitas\n",
      "City not found. Skipping...\n",
      "Processing Record 117 of Set 1 | vaini\n",
      "Processing Record 118 of Set 1 | bathsheba\n",
      "Processing Record 119 of Set 1 | beyneu\n",
      "Processing Record 120 of Set 1 | grand river south east\n",
      "City not found. Skipping...\n",
      "Processing Record 121 of Set 1 | lebu\n",
      "Processing Record 122 of Set 1 | roma\n",
      "Processing Record 123 of Set 1 | necochea\n",
      "Processing Record 124 of Set 1 | olot\n",
      "Processing Record 125 of Set 1 | alotau\n",
      "City not found. Skipping...\n",
      "Processing Record 126 of Set 1 | bluff\n",
      "Processing Record 127 of Set 1 | albany\n",
      "Processing Record 128 of Set 1 | sitio novo do tocantins\n",
      "City not found. Skipping...\n",
      "Processing Record 129 of Set 1 | lagoa\n",
      "Processing Record 130 of Set 1 | nachingwea\n",
      "Processing Record 131 of Set 1 | eureka\n",
      "Processing Record 132 of Set 1 | derzhavinsk\n",
      "Processing Record 133 of Set 1 | amuntai\n",
      "Processing Record 134 of Set 1 | honningsvag\n",
      "Processing Record 135 of Set 1 | luwuk\n",
      "Processing Record 136 of Set 1 | port hedland\n",
      "Processing Record 137 of Set 1 | atambua\n",
      "Processing Record 138 of Set 1 | dingle\n",
      "Processing Record 139 of Set 1 | belmonte\n",
      "Processing Record 140 of Set 1 | yulara\n",
      "Processing Record 141 of Set 1 | buala\n",
      "Processing Record 142 of Set 1 | whitehorse\n",
      "Processing Record 143 of Set 1 | kahului\n",
      "Processing Record 144 of Set 1 | namatanai\n",
      "Processing Record 145 of Set 1 | nanortalik\n",
      "Processing Record 146 of Set 1 | mahanoro\n",
      "Processing Record 147 of Set 1 | the valley\n",
      "Processing Record 148 of Set 1 | bambous virieux\n",
      "Processing Record 149 of Set 1 | cape town\n",
      "Processing Record 150 of Set 1 | ust-nera\n",
      "Processing Record 151 of Set 1 | tabuk\n",
      "Processing Record 152 of Set 1 | hayden\n",
      "Processing Record 153 of Set 1 | marquette\n",
      "Processing Record 154 of Set 1 | fairbanks\n",
      "Processing Record 155 of Set 1 | rudsar\n",
      "Processing Record 156 of Set 1 | north bend\n",
      "Processing Record 157 of Set 1 | vila\n",
      "Processing Record 158 of Set 1 | xixiang\n",
      "Processing Record 159 of Set 1 | port blair\n",
      "Processing Record 160 of Set 1 | qaanaaq\n",
      "Processing Record 161 of Set 1 | morros\n",
      "Processing Record 162 of Set 1 | poso\n",
      "Processing Record 163 of Set 1 | salinopolis\n",
      "Processing Record 164 of Set 1 | morro bay\n",
      "Processing Record 165 of Set 1 | rantauprapat\n",
      "Processing Record 166 of Set 1 | diplo\n",
      "Processing Record 167 of Set 1 | coihaique\n",
      "Processing Record 168 of Set 1 | farsund\n",
      "Processing Record 169 of Set 1 | valle de allende\n",
      "Processing Record 170 of Set 1 | sulina\n",
      "City not found. Skipping...\n",
      "Processing Record 171 of Set 1 | shkotovo-26\n",
      "City not found. Skipping...\n",
      "Processing Record 172 of Set 1 | diego de almagro\n",
      "Processing Record 173 of Set 1 | husavik\n",
      "Processing Record 174 of Set 1 | mitha tiwana\n",
      "Processing Record 175 of Set 1 | hermanus\n",
      "Processing Record 176 of Set 1 | nikolskoye\n",
      "Processing Record 177 of Set 1 | palmas\n",
      "Processing Record 178 of Set 1 | dikson\n",
      "Processing Record 179 of Set 1 | nemuro\n",
      "Processing Record 180 of Set 1 | cidreira\n",
      "Processing Record 181 of Set 1 | henties bay\n"
     ]
    }
   ],
   "source": [
    "Lat = []\n",
    "Lng = []\n",
    "Cloudiness = []\n",
    "Country = []\n",
    "Date = []\n",
    "Humidity = []\n",
    "Max_temp = []\n",
    "Wind_speed = []\n",
    "Cities = []\n",
    "counter = 0\n",
    "\n",
    "for city in cities:\n",
    "    try:\n",
    "        counter +=1\n",
    "        print(f'Processing Record {counter} of Set 1 | {city}')\n",
    "        weather_response = requests.get(query_url + city)\n",
    "        weather_json = weather_response.json()\n",
    "        Lat.append(weather_json['coord']['lat'])\n",
    "        Lng.append(weather_json['coord']['lon'])\n",
    "        Cloudiness.append(weather_json['clouds']['all'])\n",
    "        Country.append(weather_json['sys']['country'])\n",
    "        Date.append(weather_json['dt'])\n",
    "        Humidity.append(weather_json['main']['humidity'])\n",
    "        Max_temp.append(weather_json['main']['temp_max'])\n",
    "        Wind_speed.append(weather_json['wind']['speed'])\n",
    "        Cities.append(city)\n",
    "    except Exception as e:\n",
    "        print(f'City not found. Skipping...')\n",
    "        \n",
    "    "
   ]
  },
  {
   "cell_type": "markdown",
   "metadata": {},
   "source": [
    "### Convert Raw Data to DataFrame\n",
    "* Export the city data into a .csv.\n",
    "* Display the DataFrame"
   ]
  },
  {
   "cell_type": "code",
   "execution_count": 7,
   "metadata": {},
   "outputs": [
    {
     "data": {
      "text/html": [
       "<div>\n",
       "<style scoped>\n",
       "    .dataframe tbody tr th:only-of-type {\n",
       "        vertical-align: middle;\n",
       "    }\n",
       "\n",
       "    .dataframe tbody tr th {\n",
       "        vertical-align: top;\n",
       "    }\n",
       "\n",
       "    .dataframe thead th {\n",
       "        text-align: right;\n",
       "    }\n",
       "</style>\n",
       "<table border=\"1\" class=\"dataframe\">\n",
       "  <thead>\n",
       "    <tr style=\"text-align: right;\">\n",
       "      <th></th>\n",
       "      <th>City</th>\n",
       "      <th>Cloudiness</th>\n",
       "      <th>Country</th>\n",
       "      <th>Date</th>\n",
       "      <th>Humidity</th>\n",
       "      <th>Lat</th>\n",
       "      <th>Lng</th>\n",
       "      <th>Max Temp</th>\n",
       "      <th>Wind Speed</th>\n",
       "    </tr>\n",
       "  </thead>\n",
       "  <tbody>\n",
       "    <tr>\n",
       "      <th>0</th>\n",
       "      <td>hilo</td>\n",
       "      <td>75</td>\n",
       "      <td>US</td>\n",
       "      <td>1541562960</td>\n",
       "      <td>79</td>\n",
       "      <td>19.71</td>\n",
       "      <td>-155.08</td>\n",
       "      <td>75.92</td>\n",
       "      <td>6.93</td>\n",
       "    </tr>\n",
       "    <tr>\n",
       "      <th>1</th>\n",
       "      <td>byron bay</td>\n",
       "      <td>48</td>\n",
       "      <td>AU</td>\n",
       "      <td>1541565000</td>\n",
       "      <td>73</td>\n",
       "      <td>-28.65</td>\n",
       "      <td>153.62</td>\n",
       "      <td>77.00</td>\n",
       "      <td>24.16</td>\n",
       "    </tr>\n",
       "    <tr>\n",
       "      <th>2</th>\n",
       "      <td>dhidhdhoo</td>\n",
       "      <td>0</td>\n",
       "      <td>MV</td>\n",
       "      <td>1541565803</td>\n",
       "      <td>100</td>\n",
       "      <td>6.88</td>\n",
       "      <td>73.10</td>\n",
       "      <td>82.79</td>\n",
       "      <td>1.36</td>\n",
       "    </tr>\n",
       "    <tr>\n",
       "      <th>3</th>\n",
       "      <td>vaitape</td>\n",
       "      <td>56</td>\n",
       "      <td>PF</td>\n",
       "      <td>1541565804</td>\n",
       "      <td>100</td>\n",
       "      <td>-16.52</td>\n",
       "      <td>-151.75</td>\n",
       "      <td>79.73</td>\n",
       "      <td>15.79</td>\n",
       "    </tr>\n",
       "    <tr>\n",
       "      <th>4</th>\n",
       "      <td>rikitea</td>\n",
       "      <td>12</td>\n",
       "      <td>PF</td>\n",
       "      <td>1541565804</td>\n",
       "      <td>100</td>\n",
       "      <td>-23.12</td>\n",
       "      <td>-134.97</td>\n",
       "      <td>72.94</td>\n",
       "      <td>14.23</td>\n",
       "    </tr>\n",
       "  </tbody>\n",
       "</table>\n",
       "</div>"
      ],
      "text/plain": [
       "        City  Cloudiness Country        Date  Humidity    Lat     Lng  \\\n",
       "0       hilo          75      US  1541562960        79  19.71 -155.08   \n",
       "1  byron bay          48      AU  1541565000        73 -28.65  153.62   \n",
       "2  dhidhdhoo           0      MV  1541565803       100   6.88   73.10   \n",
       "3    vaitape          56      PF  1541565804       100 -16.52 -151.75   \n",
       "4    rikitea          12      PF  1541565804       100 -23.12 -134.97   \n",
       "\n",
       "   Max Temp  Wind Speed  \n",
       "0     75.92        6.93  \n",
       "1     77.00       24.16  \n",
       "2     82.79        1.36  \n",
       "3     79.73       15.79  \n",
       "4     72.94       14.23  "
      ]
     },
     "execution_count": 7,
     "metadata": {},
     "output_type": "execute_result"
    }
   ],
   "source": [
    "weather_dict = {\n",
    "    \"City\": Cities,\n",
    "    \"Cloudiness\": Cloudiness,\n",
    "    \"Country\": Country,\n",
    "    \"Date\": Date,\n",
    "    \"Humidity\": Humidity,\n",
    "    \"Lat\": Lat,\n",
    "    \"Lng\": Lng,\n",
    "    \"Max Temp\": Max_temp,\n",
    "    \"Wind Speed\": Wind_speed\n",
    "}\n",
    "weather_df = pd.DataFrame(weather_dict)\n",
    "weather_df.head()"
   ]
  },
  {
   "cell_type": "markdown",
   "metadata": {},
   "source": [
    "### Plotting the Data\n",
    "* Use proper labeling of the plots using plot titles (including date of analysis) and axes labels.\n",
    "* Save the plotted figures as .pngs."
   ]
  },
  {
   "cell_type": "markdown",
   "metadata": {},
   "source": [
    "#### Latitude vs. Temperature Plot"
   ]
  },
  {
   "cell_type": "code",
   "execution_count": 9,
   "metadata": {},
   "outputs": [
    {
     "data": {
      "image/png": "[encoded data removed]",
      "text/plain": [
       "<Figure size 432x288 with 1 Axes>"
      ]
     },
     "metadata": {
      "needs_background": "light"
     },
     "output_type": "display_data"
    }
   ],
   "source": [
    "plt.scatter(weather_df[\"Lat\"],weather_df[\"Max Temp\"],\n",
    "            marker='o',\n",
    "            color= 'lightblue',\n",
    "            edgecolors = 'black'\n",
    "           )\n",
    "plt.title(\"City Latitude vs. Max Temperature\")\n",
    "plt.ylabel(\"Max Temperature (F)\")\n",
    "plt.xlabel(\"Latitude\")\n",
    "plt.show()"
   ]
  },
  {
   "cell_type": "markdown",
   "metadata": {},
   "source": [
    "#### Latitude vs. Humidity Plot"
   ]
  },
  {
   "cell_type": "code",
   "execution_count": 10,
   "metadata": {},
   "outputs": [
    {
     "data": {
      "image/png": "[encoded data removed]",
      "text/plain": [
       "<Figure size 432x288 with 1 Axes>"
      ]
     },
     "metadata": {
      "needs_background": "light"
     },
     "output_type": "display_data"
    }
   ],
   "source": [
    "plt.scatter(weather_df[\"Lat\"],weather_df[\"Humidity\"],\n",
    "            marker='o',\n",
    "            color= 'lightblue',\n",
    "            edgecolors = 'black'\n",
    "           )\n",
    "plt.title(\"City Latitude vs. Humidity\")\n",
    "plt.ylabel(\"Humidity (%)\")\n",
    "plt.xlabel(\"Latitude\")\n",
    "plt.show()"
   ]
  },
  {
   "cell_type": "markdown",
   "metadata": {},
   "source": [
    "#### Latitude vs. Cloudiness Plot"
   ]
  },
  {
   "cell_type": "code",
   "execution_count": 11,
   "metadata": {
    "scrolled": true
   },
   "outputs": [
    {
     "data": {
      "image/png": "[encoded data removed]",
      "text/plain": [
       "<Figure size 432x288 with 1 Axes>"
      ]
     },
     "metadata": {
      "needs_background": "light"
     },
     "output_type": "display_data"
    }
   ],
   "source": [
    "plt.scatter(weather_df[\"Lat\"],weather_df[\"Cloudiness\"],\n",
    "            marker='o',\n",
    "            color= 'lightblue',\n",
    "            edgecolors = 'black'\n",
    "           )\n",
    "plt.title(\"City Latitude vs. Cloudiness\")\n",
    "plt.ylabel(\"Cloudiness (%)\")\n",
    "plt.xlabel(\"Latitude\")\n",
    "plt.show()"
   ]
  },
  {
   "cell_type": "markdown",
   "metadata": {},
   "source": [
    "#### Latitude vs. Wind Speed Plot"
   ]
  },
  {
   "cell_type": "code",
   "execution_count": 65,
   "metadata": {},
   "outputs": [
    {
     "data": {
      "image/png": "[encoded data removed]",
      "text/plain": [
       "<Figure size 432x288 with 1 Axes>"
      ]
     },
     "metadata": {
      "needs_background": "light"
     },
     "output_type": "display_data"
    }
   ],
   "source": [
    "plt.scatter(weather_df[\"Lat\"],[weather_df[\"Wind Speed\"]],\n",
    "            marker='o',\n",
    "            color= 'lightblue',\n",
    "            edgecolors = 'black'\n",
    "           )\n",
    "plt.title(\"City Latitude vs. Wind Speed\")\n",
    "plt.ylabel(\"Wind Speed (mph)\")\n",
    "plt.xlabel(\"Latitude\")\n",
    "plt.show()"
   ]
  },
  {
   "cell_type": "code",
   "execution_count": null,
   "metadata": {},
   "outputs": [],
   "source": []
  }
 ],
 "metadata": {
  "anaconda-cloud": {},
  "kernelspec": {
   "display_name": "Python 3",
   "language": "python",
   "name": "python3"
  },
  "language_info": {
   "codemirror_mode": {
    "name": "ipython",
    "version": 3
   },
   "file_extension": ".py",
   "mimetype": "text/x-python",
   "name": "python",
   "nbconvert_exporter": "python",
   "pygments_lexer": "ipython3",
   "version": "3.7.0"
  }
 },
 "nbformat": 4,
 "nbformat_minor": 2
}
